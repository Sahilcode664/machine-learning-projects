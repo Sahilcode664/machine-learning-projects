{
 "cells": [
  {
   "cell_type": "code",
   "execution_count": 4,
   "id": "1058629b-c7b3-4915-901f-eb896ab86faa",
   "metadata": {},
   "outputs": [
    {
     "name": "stdin",
     "output_type": "stream",
     "text": [
      "Enter your name :  sahil\n"
     ]
    },
    {
     "ename": "ValueError",
     "evalue": "all the input array dimensions except for the concatenation axis must match exactly, but along dimension 1, the array at index 0 has size 10001 and the array at index 1 has size 0",
     "output_type": "error",
     "traceback": [
      "\u001b[1;31m---------------------------------------------------------------------------\u001b[0m",
      "\u001b[1;31mValueError\u001b[0m                                Traceback (most recent call last)",
      "Cell \u001b[1;32mIn[4], line 34\u001b[0m\n\u001b[0;32m     32\u001b[0m \u001b[38;5;28;01mif\u001b[39;00m os\u001b[38;5;241m.\u001b[39mpath\u001b[38;5;241m.\u001b[39mexists(f_name):\n\u001b[0;32m     33\u001b[0m     old \u001b[38;5;241m=\u001b[39m np\u001b[38;5;241m.\u001b[39mload(f_name)\n\u001b[1;32m---> 34\u001b[0m     data\u001b[38;5;241m=\u001b[39m\u001b[43mnp\u001b[49m\u001b[38;5;241;43m.\u001b[39;49m\u001b[43mvstack\u001b[49m\u001b[43m(\u001b[49m\u001b[43m[\u001b[49m\u001b[43mold\u001b[49m\u001b[43m,\u001b[49m\u001b[43mdata\u001b[49m\u001b[43m]\u001b[49m\u001b[43m)\u001b[49m\n\u001b[0;32m     35\u001b[0m np\u001b[38;5;241m.\u001b[39msave(f_name,data)\n\u001b[0;32m     36\u001b[0m cap\u001b[38;5;241m.\u001b[39mrelease()\n",
      "File \u001b[1;32m~\\AppData\\Local\\Programs\\Python\\Python312\\Lib\\site-packages\\numpy\\core\\shape_base.py:289\u001b[0m, in \u001b[0;36mvstack\u001b[1;34m(tup, dtype, casting)\u001b[0m\n\u001b[0;32m    287\u001b[0m \u001b[38;5;28;01mif\u001b[39;00m \u001b[38;5;129;01mnot\u001b[39;00m \u001b[38;5;28misinstance\u001b[39m(arrs, \u001b[38;5;28mlist\u001b[39m):\n\u001b[0;32m    288\u001b[0m     arrs \u001b[38;5;241m=\u001b[39m [arrs]\n\u001b[1;32m--> 289\u001b[0m \u001b[38;5;28;01mreturn\u001b[39;00m \u001b[43m_nx\u001b[49m\u001b[38;5;241;43m.\u001b[39;49m\u001b[43mconcatenate\u001b[49m\u001b[43m(\u001b[49m\u001b[43marrs\u001b[49m\u001b[43m,\u001b[49m\u001b[43m \u001b[49m\u001b[38;5;241;43m0\u001b[39;49m\u001b[43m,\u001b[49m\u001b[43m \u001b[49m\u001b[43mdtype\u001b[49m\u001b[38;5;241;43m=\u001b[39;49m\u001b[43mdtype\u001b[49m\u001b[43m,\u001b[49m\u001b[43m \u001b[49m\u001b[43mcasting\u001b[49m\u001b[38;5;241;43m=\u001b[39;49m\u001b[43mcasting\u001b[49m\u001b[43m)\u001b[49m\n",
      "\u001b[1;31mValueError\u001b[0m: all the input array dimensions except for the concatenation axis must match exactly, but along dimension 1, the array at index 0 has size 10001 and the array at index 1 has size 0"
     ]
    }
   ],
   "source": [
    "import cv2\n",
    "import mediapipe as mp\n",
    "import numpy as np\n",
    "import os\n",
    "#import sklearn\n",
    "cap=cv2.VideoCapture(0)\n",
    "detector=cv2.CascadeClassifier(\"haarcascade_frontalface_default.xml\")\n",
    "name= input(\"Enter your name : \")\n",
    "frames=[]\n",
    "outputs=[]\n",
    "while True:\n",
    "    ret , frame =cap.read()\n",
    "    if ret :\n",
    "        faces=detector.detectMultiScale(frame)\n",
    "        for face in faces:\n",
    "            x,y,w,h=face\n",
    "            cut=frame[y:y+h,x:x+w]\n",
    "            fix = cv2.resize(cut,(100,100))\n",
    "            gray = cv2.cvtColor(fix,cv2.COLOR_BGR2GRAY)\n",
    "            cv2.rectangle(frame,(x,y),(x+w,y+h),(255,0,0),2)\n",
    "        cv2.imshow(\"My Screen\",frame)\n",
    "    key=cv2.waitKey(1)\n",
    "    if key== ord(\"q\"):\n",
    "        break\n",
    "    if key == ord(\"c\"):\n",
    "        frames.append(gray.flatten())\n",
    "        outputs.append([name])\n",
    "X=np.array(frames)\n",
    "Y=np.array(outputs)\n",
    "data = np.hstack([Y,X])\n",
    "f_name=\"face_data.npy\"\n",
    "if os.path.exists(f_name):\n",
    "    old = np.load(f_name)\n",
    "    data=np.vstack([old,data])\n",
    "np.save(f_name,data)\n",
    "cap.release()\n",
    "cv2.destroyAllWindows()"
   ]
  },
  {
   "cell_type": "code",
   "execution_count": null,
   "id": "3147b529-2640-409e-a40c-35bcb6b213fe",
   "metadata": {},
   "outputs": [],
   "source": []
  }
 ],
 "metadata": {
  "kernelspec": {
   "display_name": "Python 3 (ipykernel)",
   "language": "python",
   "name": "python3"
  },
  "language_info": {
   "codemirror_mode": {
    "name": "ipython",
    "version": 3
   },
   "file_extension": ".py",
   "mimetype": "text/x-python",
   "name": "python",
   "nbconvert_exporter": "python",
   "pygments_lexer": "ipython3",
   "version": "3.12.2"
  }
 },
 "nbformat": 4,
 "nbformat_minor": 5
}
