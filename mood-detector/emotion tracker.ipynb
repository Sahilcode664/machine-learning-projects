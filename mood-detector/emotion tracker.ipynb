{
 "cells": [
  {
   "cell_type": "code",
   "execution_count": 13,
   "id": "ff1b2058-6dc5-4624-bcf0-d208d6b70dfe",
   "metadata": {},
   "outputs": [
    {
     "name": "stdin",
     "output_type": "stream",
     "text": [
      "Enter your mood :  happy\n"
     ]
    },
    {
     "ename": "TypeError",
     "evalue": "__call__(): incompatible function arguments. The following argument types are supported:\n    1. (self: _dlib_pybind11.fhog_object_detector, image: numpy.ndarray, upsample_num_times: int = 0) -> _dlib_pybind11.rectangles\n\nInvoked with: <_dlib_pybind11.fhog_object_detector object at 0x0000021B9A154EF0>, None",
     "output_type": "error",
     "traceback": [
      "\u001b[1;31m---------------------------------------------------------------------------\u001b[0m",
      "\u001b[1;31mTypeError\u001b[0m                                 Traceback (most recent call last)",
      "Cell \u001b[1;32mIn[13], line 14\u001b[0m\n\u001b[0;32m     12\u001b[0m \u001b[38;5;28;01mwhile\u001b[39;00m \u001b[38;5;28;01mTrue\u001b[39;00m:\n\u001b[0;32m     13\u001b[0m     ret , frame \u001b[38;5;241m=\u001b[39mcap\u001b[38;5;241m.\u001b[39mread()\n\u001b[1;32m---> 14\u001b[0m     faces\u001b[38;5;241m=\u001b[39m\u001b[43mdetector\u001b[49m\u001b[43m(\u001b[49m\u001b[43mframe\u001b[49m\u001b[43m)\u001b[49m\n\u001b[0;32m     15\u001b[0m     \u001b[38;5;28;01mfor\u001b[39;00m face \u001b[38;5;129;01min\u001b[39;00m faces:\n\u001b[0;32m     16\u001b[0m         landmarks\u001b[38;5;241m=\u001b[39m predictor(frame,face)\n",
      "\u001b[1;31mTypeError\u001b[0m: __call__(): incompatible function arguments. The following argument types are supported:\n    1. (self: _dlib_pybind11.fhog_object_detector, image: numpy.ndarray, upsample_num_times: int = 0) -> _dlib_pybind11.rectangles\n\nInvoked with: <_dlib_pybind11.fhog_object_detector object at 0x0000021B9A154EF0>, None"
     ]
    }
   ],
   "source": [
    "import cv2\n",
    "import mediapipe as mp\n",
    "import numpy as np\n",
    "import os\n",
    "import dlib\n",
    "detector= dlib.get_frontal_face_detector()\n",
    "predictor=dlib.shape_predictor(\"shape_predictor_68_face_landmarks.dat\")\n",
    "cap=cv2.VideoCapture(0)\n",
    "mood = input(\"Enter your mood : \")\n",
    "frames=[]\n",
    "outputs=[]\n",
    "while True:\n",
    "    ret , frame =cap.read()\n",
    "    gray=cv2.cvtColor(frame,cv2.COLOR_BGR2GRAY)\n",
    "    faces=detector(gray)\n",
    "    for face in faces:\n",
    "        landmarks= predictor(gray,face)\n",
    "        expression = np.array([[point.x-face.left() , point.y - face.top()] for point in landmarks.parts()[17:]])\n",
    "\n",
    "    if ret :\n",
    "        cv2.imshow(\"My Screen\",frame)\n",
    "    key=cv2.waitKey(1)\n",
    "    if key== ord(\"q\"):\n",
    "        break\n",
    "    elif key== ord(\"c\"):\n",
    "        frames.append(expression.flatten())\n",
    "        outputs.append([mood])\n",
    "X= np.array(frames)\n",
    "y= np.array(outputs)\n",
    "data = np.hstack([y,X])\n",
    "f_name= \"face_mood_data.npy\"\n",
    "if os.path.exists(f_name):\n",
    "    old=np.load(f_name)\n",
    "    data= np.vstack([old,data])\n",
    "np.save(f_name,data)\n",
    "cap.release()\n",
    "cv2.destroyAllWindows()"
   ]
  },
  {
   "cell_type": "code",
   "execution_count": null,
   "id": "29f90357-c6cc-41b8-8b1b-b37cc065c4f2",
   "metadata": {},
   "outputs": [],
   "source": []
  }
 ],
 "metadata": {
  "kernelspec": {
   "display_name": "Python 3 (ipykernel)",
   "language": "python",
   "name": "python3"
  },
  "language_info": {
   "codemirror_mode": {
    "name": "ipython",
    "version": 3
   },
   "file_extension": ".py",
   "mimetype": "text/x-python",
   "name": "python",
   "nbconvert_exporter": "python",
   "pygments_lexer": "ipython3",
   "version": "3.12.2"
  }
 },
 "nbformat": 4,
 "nbformat_minor": 5
}
