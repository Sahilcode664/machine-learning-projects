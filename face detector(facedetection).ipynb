{
 "cells": [
  {
   "cell_type": "code",
   "execution_count": 1,
   "id": "9ba03c0a-54af-446e-9cd6-abafeee4d7bf",
   "metadata": {},
   "outputs": [],
   "source": [
    "import numpy as np\n",
    "import cv2\n",
    "from sklearn.neighbors import KNeighborsClassifier\n",
    "data=np.load(\"face_data.npy\")\n",
    "X=data[:,1:].astype(int)\n",
    "y=data[:,0]\n",
    "model= KNeighborsClassifier()\n",
    "model.fit(X,y)\n",
    "cap=cv2.VideoCapture(0)\n",
    "detector=cv2.CascadeClassifier(\"haarcascade_frontalface_default.xml\")\n",
    "while True:\n",
    "    ret , frame =cap.read()\n",
    "    if ret :\n",
    "        faces=detector.detectMultiScale(frame)\n",
    "        for face in faces:\n",
    "            x,y,w,h=face\n",
    "            cut=frame[y:y+h,x:x+w]\n",
    "            fix = cv2.resize(cut,(100,100))\n",
    "            gray = cv2.cvtColor(fix,cv2.COLOR_BGR2GRAY)\n",
    "            out=model.predict([gray.flatten()])\n",
    "            cv2.rectangle(frame,(x,y),(x+w,y+h),(255,0,0),2)\n",
    "            cv2.putText(frame,str(out[0]),(x,y-10),cv2.FONT_HERSHEY_COMPLEX,2,(0,255,0),2)\n",
    "            #print(out)\n",
    "        cv2.imshow(\"my\",frame)\n",
    "    key=cv2.waitKey(1)\n",
    "    if key== ord(\"q\"):\n",
    "        break\n",
    "cap.release()\n",
    "cv2.destroyAllWindows()"
   ]
  },
  {
   "cell_type": "code",
   "execution_count": null,
   "id": "eff9acfb-0317-4e73-8ad1-4138ebd1b3d9",
   "metadata": {},
   "outputs": [],
   "source": []
  }
 ],
 "metadata": {
  "kernelspec": {
   "display_name": "Python 3 (ipykernel)",
   "language": "python",
   "name": "python3"
  },
  "language_info": {
   "codemirror_mode": {
    "name": "ipython",
    "version": 3
   },
   "file_extension": ".py",
   "mimetype": "text/x-python",
   "name": "python",
   "nbconvert_exporter": "python",
   "pygments_lexer": "ipython3",
   "version": "3.12.2"
  }
 },
 "nbformat": 4,
 "nbformat_minor": 5
}
