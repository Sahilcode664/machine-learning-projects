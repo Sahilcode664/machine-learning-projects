{
 "cells": [
  {
   "cell_type": "code",
   "execution_count": 1,
   "id": "59b4ca6f-b25e-4431-bfe5-4a28f3be0225",
   "metadata": {},
   "outputs": [
    {
     "name": "stderr",
     "output_type": "stream",
     "text": [
      "C:\\Users\\sahil\\AppData\\Local\\Temp\\ipykernel_20736\\2280586356.py:49: SettingWithCopyWarning: \n",
      "A value is trying to be set on a copy of a slice from a DataFrame.\n",
      "Try using .loc[row_indexer,col_indexer] = value instead\n",
      "\n",
      "See the caveats in the documentation: https://pandas.pydata.org/pandas-docs/stable/user_guide/indexing.html#returning-a-view-versus-a-copy\n",
      "  new_df[\"tags\"]=new_df[\"tags\"].apply(lambda x:\" \".join(x))\n",
      "C:\\Users\\sahil\\AppData\\Local\\Temp\\ipykernel_20736\\2280586356.py:50: SettingWithCopyWarning: \n",
      "A value is trying to be set on a copy of a slice from a DataFrame.\n",
      "Try using .loc[row_indexer,col_indexer] = value instead\n",
      "\n",
      "See the caveats in the documentation: https://pandas.pydata.org/pandas-docs/stable/user_guide/indexing.html#returning-a-view-versus-a-copy\n",
      "  new_df[\"tags\"]=new_df[\"tags\"].apply(lambda x:x.lower())\n",
      "C:\\Users\\sahil\\AppData\\Local\\Temp\\ipykernel_20736\\2280586356.py:59: SettingWithCopyWarning: \n",
      "A value is trying to be set on a copy of a slice from a DataFrame.\n",
      "Try using .loc[row_indexer,col_indexer] = value instead\n",
      "\n",
      "See the caveats in the documentation: https://pandas.pydata.org/pandas-docs/stable/user_guide/indexing.html#returning-a-view-versus-a-copy\n",
      "  new_df[\"tags\"] = new_df[\"tags\"].apply(stem)\n"
     ]
    },
    {
     "data": {
      "text/plain": [
       "[(539, 0.25038669783359574),\n",
       " (1192, 0.24779731389167606),\n",
       " (507, 0.24061325159289396),\n",
       " (1214, 0.23939494881986934),\n",
       " (260, 0.23693955110363693)]"
      ]
     },
     "execution_count": 1,
     "metadata": {},
     "output_type": "execute_result"
    }
   ],
   "source": [
    "import numpy as np\n",
    "import pandas as pd\n",
    "import matplotlib.pyplot as plt\n",
    "from sklearn.feature_extraction.text import CountVectorizer\n",
    "import ast\n",
    "import nltk\n",
    "from nltk.stem.porter import PorterStemmer\n",
    "from sklearn.metrics.pairwise import cosine_similarity\n",
    "ps=PorterStemmer()\n",
    "credits_df = pd.read_csv(\"credits.csv\")\n",
    "movies_df= pd.read_csv(\"movies.csv\")\n",
    "movies_df = movies_df.merge(credits_df,on=\"title\")\n",
    "movies_df = movies_df[[\"movie_id\",\"title\" , \"overview\" , \"genres\" , \"keywords\" , \"cast\" ,\"crew\"]]\n",
    "movies_df.dropna(inplace = True)\n",
    "def convert(obj):\n",
    "    L=[]\n",
    "    for i in ast.literal_eval(obj):\n",
    "        L.append(i[\"name\"])\n",
    "    return L\n",
    "\n",
    "movies_df[\"genres\"] = movies_df[\"genres\"].apply(convert)\n",
    "movies_df[\"keywords\"]= movies_df[\"keywords\"].apply(convert)\n",
    "def convert3(obj):\n",
    "    L=[]\n",
    "    counter=0\n",
    "    for i in ast.literal_eval(obj):\n",
    "        if counter !=3:\n",
    "            L.append(i[\"name\"])\n",
    "            counter+=1\n",
    "        else:\n",
    "            break\n",
    "    return L\n",
    "movies_df[\"cast\"]= movies_df[\"cast\"].apply(convert3)\n",
    "def fetch_director(obj):\n",
    "    L=[]\n",
    "    for i in ast.literal_eval(obj):\n",
    "        if i[\"job\"]==\"Director\":\n",
    "            L.append(i[\"name\"])\n",
    "            break\n",
    "    return L\n",
    "movies_df[\"crew\"]= movies_df[\"crew\"].apply(fetch_director)\n",
    "movies_df[\"overview\"]=movies_df[\"overview\"].apply(lambda x:x.split())\n",
    "movies_df[\"genres\"]=movies_df[\"genres\"].apply(lambda x:[i.replace(\" \",\"\") for i in x])\n",
    "movies_df[\"keywords\"]=movies_df[\"keywords\"].apply(lambda x:[i.replace(\" \",\"\") for i in x])\n",
    "movies_df[\"cast\"]=movies_df[\"cast\"].apply(lambda x:[i.replace(\" \",\"\") for i in x])\n",
    "movies_df[\"crew\"]=movies_df[\"crew\"].apply(lambda x:[i.replace(\" \",\"\") for i in x])\n",
    "movies_df['tags']=movies_df['overview']+movies_df[\"genres\"]+movies_df[\"keywords\"]+movies_df[\"cast\"]+movies_df[\"crew\"]\n",
    "new_df=movies_df[[\"movie_id\",\"title\",\"tags\"]]\n",
    "new_df[\"tags\"]=new_df[\"tags\"].apply(lambda x:\" \".join(x))\n",
    "new_df[\"tags\"]=new_df[\"tags\"].apply(lambda x:x.lower())\n",
    "cv=CountVectorizer(max_features=5000,stop_words=\"english\")\n",
    "vectors=cv.fit_transform(new_df[\"tags\"]).toarray()\n",
    "def stem(text):\n",
    "    y=[]\n",
    "    for i in text.split():\n",
    "        y.append(ps.stem(i))\n",
    "    return \" \".join(y)\n",
    "\n",
    "new_df[\"tags\"] = new_df[\"tags\"].apply(stem)\n",
    "similarity=cosine_similarity(vectors)\n",
    "sorted(list(enumerate(similarity[0])), reverse =True , key=lambda x:x[1])[1:6]"
   ]
  },
  {
   "cell_type": "code",
   "execution_count": null,
   "id": "af0e7319-4d32-42c4-baa9-ac779a0bd465",
   "metadata": {},
   "outputs": [],
   "source": [
    "def recommend(movie):\n",
    "    movie_index = new_df[new_df[\"title\"]==movie].index[0]\n",
    "    distances=similarity[movie_index]\n",
    "    movies_list=sorted(list(enumerate(distances)),reverse =True , key=lambda x:x[1])[1:6]\n",
    "    for i in movies_list:\n",
    "        print(new_df.iloc[i[0]].title)\n",
    "\n",
    "x1=input(\"Enter the Movie name\")\n",
    "recommend(x1)"
   ]
  },
  {
   "cell_type": "code",
   "execution_count": null,
   "id": "a4ddea36-23c9-4f29-bc4b-3203cedbba52",
   "metadata": {},
   "outputs": [],
   "source": []
  }
 ],
 "metadata": {
  "kernelspec": {
   "display_name": "Python 3 (ipykernel)",
   "language": "python",
   "name": "python3"
  },
  "language_info": {
   "codemirror_mode": {
    "name": "ipython",
    "version": 3
   },
   "file_extension": ".py",
   "mimetype": "text/x-python",
   "name": "python",
   "nbconvert_exporter": "python",
   "pygments_lexer": "ipython3",
   "version": "3.12.2"
  }
 },
 "nbformat": 4,
 "nbformat_minor": 5
}
